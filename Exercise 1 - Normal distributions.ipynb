{
  "cells": [
    {
      "cell_type": "markdown",
      "metadata": {
        "id": "view-in-github",
        "colab_type": "text"
      },
      "source": [
        "<a href=\"https://colab.research.google.com/github/ZhanyueJ/ZhanyueJ/blob/main/Exercise%201%20-%20Normal%20distributions.ipynb\" target=\"_parent\"><img src=\"https://colab.research.google.com/assets/colab-badge.svg\" alt=\"Open In Colab\"/></a>"
      ]
    },
    {
      "cell_type": "markdown",
      "metadata": {
        "id": "ENEC8LeKMt_K"
      },
      "source": [
        "__Zhanyue Jia__\n",
        "<br>\n",
        "Student ID : 216705782\n",
        "<br>\n",
        "Date: Jan. 12, 2021\n",
        "<br>\n",
        "PHYS 2030 W22"
      ]
    },
    {
      "cell_type": "markdown",
      "metadata": {
        "id": "f1QSPXouMt_L"
      },
      "source": [
        "# <center><font color=#46769B>Exercise 1: Error propagation via random sampling</font></center>\n",
        "\n",
        "## <font color=#46769B>Introduction:</font>\n",
        "\n",
        "Our goals for this notebook are:\n",
        "- Practice with sampling from normal distributions.\n",
        "- Practice some basics of using `numpy` and `matplotlib.pyplot`.\n",
        "- Learn a new technique for propagation of errors.\n",
        "\n",
        "Required reading:\n",
        "- *Lesson 1: Normal distributions*\n",
        "\n",
        "Guidelines: \n",
        "- You are allowed to use resources such as websites or textbooks if you need help figuring things out. \n",
        "- You are *not allowed* to work with any collaborators on this assignment, including your peers or tutoring services.\n",
        "\n",
        "By submitting this assignment, you acknowledge: \n",
        "- Any code written here is the result of your own work and is written by you.\n",
        "- Any information sources (e.g., websites) used outside of the course material will be *cited* (provide URLs). "
      ]
    },
    {
      "cell_type": "markdown",
      "metadata": {
        "id": "63t1-BuJMt_M"
      },
      "source": [
        "## <font color=#46769B>Error propagation:</font>\n",
        "\n",
        "In lab courses, it is standard practice to do error propagation. For example, suppose you have two measured quantities $A,B$. That is, you have their mean values $\\langle A \\rangle$, $\\langle B\\rangle$, and their uncertainties $\\Delta A,\\Delta B$. \n",
        "Now suppose you want to calculate the mean and error for a new quantity $C = f(A,B)$ that is a function of $A,B$. What do you do?\n",
        "- Take the mean to be $\\langle C \\rangle = f(\\langle A \\rangle, \\langle B \\rangle)$. But you may wonder: is this an approximation or is it always true? \n",
        "- Calculate the error $\\Delta C$ using the rules for error propagation. How straightforward this is depends on how complex $f$ is (and how well one remembers the rules).\n",
        "\n",
        "Random sampling is another way to approach this problem. There is just one procedure to remember.\n",
        "- Generate random samples for $A$ and $B$. That is, you generate a list of $N$ values for each quantity<font color=red>$^1$</font>\n",
        "$$\\left(A_0, A_1, ..., A_{N-1}\\right) \\, ,  \\qquad \\left(B_0, B_1, ..., B_{N-1}\\right)\\, .$$\n",
        "- For every pair $A_i, B_i$, compute $C_i = f(A_i, B_i)$ to generate samples for $C$:\n",
        "$$\\left(C_0, C_1, ..., C_{N-1}\\right)\\, .$$\n",
        "- Using your samples for $C$, calculate the mean value $\\langle C \\rangle$ and standard deviation for $\\Delta C$.\n",
        "\n",
        "There are two things to keep in mind:\n",
        "- $N$ must be large enough so that your values for $\\langle C \\rangle$ and $\\Delta C$ converge, i.e., you get the same result (up to significant figures) for multiple simulations.\n",
        "- How you sample quantities $A,B$ is up to you. A normal distribution is typically *default* assumption for how to sample, especially if the errors quoted for $A,B$ are *random* or *statitistical* errors.<font color=red>$^2$</font> But you can sample in a different way if you have more information about the problem, or if you want to include systematic errors (we will see an example below).\n",
        "\n",
        "### <font color=#46769B>Footnotes:</font>\n",
        "\n",
        "<font color=red>$^1$</font> Note since Python counting starts at zero, I will follow the same numbering conventions though it looks a bit messier.\n",
        "\n",
        "<font color=red>$^2$</font> *Random* errors are due to the fact that repeated measurements will not give exactly the same results each time, due to unpredictable differences in the measurement setup or observer. This is why one performs multiple measurements and averages over them. For example, you measure a length with a ruler and get ten slightly different numbers each time. In contrast, *systematic* errors are errors that are the same for all measurements. For example, suppose your ruler is of poor quality and all lengths skewed too short by 5\\%.\n"
      ]
    },
    {
      "cell_type": "markdown",
      "metadata": {
        "id": "k_1TUXuKMt_M"
      },
      "source": [
        "## <font color=#46769B>Part 1: Pendulum</font>\n",
        "\n",
        "The standard formula for the oscillation period of a pendulum is\n",
        "$$T = 2\\pi \\sqrt{L/g}$$\n",
        "where $g$ is the gravitational acceleration and $L$ is the length of the pendulum. Suppose we have measured the period and length of the pendulum to be:\n",
        "$$T = 1.835 \\pm 0.005 \\; {\\rm s} \\, , \\qquad L = 0.855 \\pm 0.002 \\; {\\rm m} \\, .$$\n",
        "\n",
        "### <font color=#46769B>Part (1a)</font>\n",
        "Using random sampling for $T$ and $L$, determine $g$, with a sample size of $N=100$.\n",
        "- Assume the errors quoted for $T$ and $L$ are random errors and generate samples using a normal distribution.\n",
        "- Determine both the mean $\\langle g \\rangle$ and uncertainty $\\Delta g$. Write *your own* code for calculating the mean and standard deviations for your samples for $g$ and verify that it agrees with what you get using `numpy.mean` and `numpy.std`.\n",
        "- Plot a histogram for your samples for $g$, choosing a suitable number of histogram bins.\n",
        "\n",
        "### <font color=#46769B>Part (2b)</font>\n",
        "- Repeat part (a) for a larger value of $N$ where your results have converged.\n",
        "- Compare your histogram for $g$ to a normal distribution of mean $\\mu=\\langle g \\rangle$ and standard deviation $\\sigma = \\Delta g$. (Make a plot of the normal distribution on top of the histogram. Be sure to normalize your histogram and choose a suitable number of bins.)"
      ]
    },
    {
      "cell_type": "code",
      "execution_count": null,
      "metadata": {
        "colab": {
          "base_uri": "https://localhost:8080/",
          "height": 608
        },
        "id": "f6UszqG2Mt_N",
        "outputId": "e5f02191-df24-4d48-e417-fbc04e8b861f"
      },
      "outputs": [
        {
          "output_type": "stream",
          "name": "stdout",
          "text": [
            "Calculated Mean value of g AGREE with Mean Value of g estimated by Bulid-in Function numpy.mean\n",
            "Calculated Standard deviation of g DISAGREE Standard deviation of g estimated by Bulid-in Function numpy.std\n",
            "Calculated Mean value of g AGREE with Mean Value of g estimated by Bulid-in Function numpy.mean\n",
            "Calculated Standard deviation of g AGREE Standard deviation of g estimated by Bulid-in Function numpy.std\n"
          ]
        },
        {
          "output_type": "execute_result",
          "data": {
            "text/plain": [
              "[<matplotlib.lines.Line2D at 0x7f29fee4c710>]"
            ]
          },
          "metadata": {},
          "execution_count": 160
        },
        {
          "output_type": "display_data",
          "data": {
            "image/png": "[encoded data removed]",
            "text/plain": [
              "<Figure size 432x288 with 1 Axes>"
            ]
          },
          "metadata": {
            "needs_background": "light"
          }
        },
        {
          "output_type": "display_data",
          "data": {
            "image/png": "[encoded data removed]",
            "text/plain": [
              "<Figure size 432x288 with 1 Axes>"
            ]
          },
          "metadata": {
            "needs_background": "light"
          }
        }
      ],
      "source": [
        "# Your answer to exercise 1 here\n",
        "%reset -f\n",
        "import numpy as np\n",
        "import matplotlib.pyplot as plt\n",
        "## Part(1a)\n",
        "# Generate the nomally distribuited T and L\n",
        "mu_T, sigma_T = 1.835 , 0.005\n",
        "T = np.random.normal(mu_T, sigma_T, 100)\n",
        "mu_L, sigma_L = 0.855 , 0.002\n",
        "L = np.random.normal(mu_L, sigma_L, 100)\n",
        "# Derive and Determine the smaple  g\n",
        "# T = 2pi*sqrt(L/g)\n",
        "# T^2 = 4pi^2*(L/g)\n",
        "# g = 4pi^2*L/T^2\n",
        "g = 4*np.pi**2*L/(T**2)\n",
        "# Calculating mean and standard deviation of sample g\n",
        "mu_g_cal = 1/np.size(g)*sum(g)\n",
        "sigma_g_cal = np.sqrt((1/(np.size(g)-1))*sum((g-mu_g_cal)**2))\n",
        "# mean and standard deviation of sample g by bulid-in funciton\n",
        "mu_g_fun = np.mean(g)\n",
        "sigma_g_fun = np.std(g)\n",
        "# Verify if the calculated mean and standard deviation of sample g \n",
        "# agree with bulid-in function displayed\n",
        "if (abs(mu_g_cal-mu_g_fun)/mu_g_fun<0.001):\n",
        "  print ('Calculated Mean value of g AGREE with Mean Value of g estimated by Bulid-in Function numpy.mean')\n",
        "else:\n",
        "  print ('Calculated Mean value of g DISAGREE with Mean Value of g estimated by Bulid-in Function numpy.mean') \n",
        "if (abs(sigma_g_cal-sigma_g_fun)/sigma_g_fun<0.001): \n",
        "  print ('Calculated Standard deviation of g AGREE Standard deviation of g estimated by Bulid-in Function numpy.std')\n",
        "else: \n",
        "  print ('Calculated Standard deviation of g DISAGREE Standard deviation of g estimated by Bulid-in Function numpy.std')\n",
        "# Plot the histogram for sample g\n",
        "count, bins, density = plt.hist(g, 30, density=True)\n",
        "# plot the line fit\n",
        "plot1 = plt.figure(1)\n",
        "plt.plot(bins, 1/(sigma_g_fun * np.sqrt(2 * np.pi)) * np.exp( - (bins - mu_g_fun)**2 / (2 * sigma_g_fun**2) ),\n",
        "  linewidth=2, color='r')\n",
        "## Part(1b)\n",
        "# Generate T and L\n",
        "mu_T_2, sigma_T_2 = 1.835 , 0.005\n",
        "T_2 = np.random.normal(mu_T_2, sigma_T_2, 10000000)\n",
        "mu_L_2, sigma_L_2 = 0.855 , 0.002\n",
        "L_2 = np.random.normal(mu_L_2, sigma_L_2, 10000000)\n",
        "# Determine g\n",
        "g_2 = 4*np.pi**2*L_2/(T_2**2)\n",
        "# Calculating mean and standard deviation of sample g_2\n",
        "mu_g_cal_2 = 1/np.size(g_2)*sum(g_2)\n",
        "sigma_g_cal_2 = np.sqrt((1/(np.size(g_2)-1))*sum((g_2-mu_g_cal_2)**2))\n",
        "# mean and standard deviation of sample g_2 by bulid-in funciton\n",
        "mu_g_fun_2 = np.mean(g_2)\n",
        "sigma_g_fun_2 = np.std(g_2)\n",
        "# Verify if the calculated mean and standard deviation of sample g_2 \n",
        "# agree with bulid-in function displayed\n",
        "if (abs(mu_g_cal_2-mu_g_fun_2)/mu_g_fun_2<0.001):\n",
        "  print ('Calculated Mean value of g AGREE with Mean Value of g estimated by Bulid-in Function numpy.mean')\n",
        "else:\n",
        "  print ('Calculated Mean value of g DISAGREE with Mean Value of g estimated by Bulid-in Function numpy.mean') \n",
        "if (abs(sigma_g_cal_2-sigma_g_fun_2)/sigma_g_fun_2<0.001): \n",
        "  print ('Calculated Standard deviation of g AGREE Standard deviation of g estimated by Bulid-in Function numpy.std')\n",
        "else: \n",
        "  print ('Calculated Standard deviation of g DISAGREE Standard deviation of g estimated by Bulid-in Function numpy.std')\n",
        "# Plot the histogram for sample g_2\n",
        "plot2 = plt.figure(2)\n",
        "count_2, bins_2, density_2 = plt.hist(g_2, 200, density=True)\n",
        "# plot the line fit\n",
        "plt.plot(bins_2, 1/(sigma_g_fun_2 * np.sqrt(2 * np.pi)) * np.exp( - (bins_2 - mu_g_fun_2)**2 / (2 * sigma_g_fun_2**2) ),\n",
        "  linewidth=2, color='r')"
      ]
    },
    {
      "cell_type": "markdown",
      "metadata": {
        "id": "OkY7vGXlMt_N"
      },
      "source": [
        "## <font color=#46769B>Part 2: Pendulum continued</font>\n",
        "\n",
        "Here we will consider the same example with an extra source of systematic error.\n",
        "\n",
        "Suppose we learn that the timing setup used for measuring the period $T$ may suffer from a uniform time delay $\\delta T$ from starting and stopping. That is, oscillation formula becomes\n",
        "$$T_0 = 2\\pi \\sqrt{L/g}$$\n",
        "where $T_0 = T + \\delta T$ is the *true* oscillation period and $T$ is the quantity we measure (given above). \n",
        "\n",
        "Suppose we know that $\\delta T$ is between $0-0.05$ s, but is otherwise unknown and all values in this range are equally likely. It makes sense to sample $\\delta T$ from a uniform distribution in the range $[0,0.05]$. (That is, you will sample $T_0$ as the *sum* of a normally-distributed variable $T$ and a uniformly sampled variable $\\delta T$.)\n",
        "\n",
        "- Using the values quoted above for $T$ and $L$, and including $\\delta T$ in your analysis, determine the mean value and uncertainty for $g$ (choose $N$ large enough so that these values have converged).\n",
        "\n",
        "- Compare your histogram for $g$ to a normal distribution of mean $\\mu=\\langle g \\rangle$ and standard deviation $\\sigma = \\Delta g$. (Make a plot of the normal distribution on top of the histogram. Be sure to normalize your histogram and choose a suitable number of bins.)"
      ]
    },
    {
      "cell_type": "code",
      "execution_count": null,
      "metadata": {
        "colab": {
          "base_uri": "https://localhost:8080/",
          "height": 323
        },
        "id": "2zwJfqQ8Mt_O",
        "outputId": "8eb42b61-a65a-4ef6-aa89-c2b280e5daa2"
      },
      "outputs": [
        {
          "output_type": "stream",
          "name": "stdout",
          "text": [
            "Calculated Mean value of g AGREE with Mean Value of g estimated by Bulid-in Function numpy.mean\n",
            "Calculated Standard deviation of g AGREE Standard deviation of g estimated by Bulid-in Function numpy.std\n"
          ]
        },
        {
          "output_type": "execute_result",
          "data": {
            "text/plain": [
              "[<matplotlib.lines.Line2D at 0x7f14e3604c90>]"
            ]
          },
          "metadata": {},
          "execution_count": 4
        },
        {
          "output_type": "display_data",
          "data": {
            "image/png": "[encoded data removed]",
            "text/plain": [
              "<Figure size 432x288 with 1 Axes>"
            ]
          },
          "metadata": {
            "needs_background": "light"
          }
        }
      ],
      "source": [
        "# Your answer to exercise 2 here\n",
        "%reset -f\n",
        "import numpy as np\n",
        "import matplotlib.pyplot as plt\n",
        "## Part(2)\n",
        "# Generate the nomally distribuited T , T_0and L\n",
        "mu_T, sigma_T = 1.835 , 0.005\n",
        "T = np.random.normal(mu_T, sigma_T, 10000)\n",
        "#delta_T = np.linspace(0, 0.05, 5)\n",
        "delta_T = 0.05/2\n",
        "T_0 = T + delta_T\n",
        "mu_L, sigma_L = 0.855 , 0.002\n",
        "L = np.random.normal(mu_L, sigma_L, 10000)\n",
        "# Derive and Determine the smaple  g\n",
        "# T = 2pi*sqrt(L/g)\n",
        "# T^2 = 4pi^2*(L/g)\n",
        "# g = 4pi^2*L/T^2\n",
        "g = 4*np.pi**2*L/(T_0**2)\n",
        "# Calculating mean and standard deviation of sample g\n",
        "mu_g_cal = 1/np.size(g)*sum(g)\n",
        "sigma_g_cal = np.sqrt((1/(np.size(g)-1))*sum((g-mu_g_cal)**2))\n",
        "# mean and standard deviation of sample g by bulid-in funciton\n",
        "mu_g_fun = np.mean(g)\n",
        "sigma_g_fun = np.std(g)\n",
        "# Verify if the calculated mean and standard deviation of sample g \n",
        "# agree with bulid-in function displayed\n",
        "if (abs(mu_g_cal-mu_g_fun)/mu_g_fun<0.001):\n",
        "  print ('Calculated Mean value of g AGREE with Mean Value of g estimated by Bulid-in Function numpy.mean')\n",
        "else:\n",
        "  print ('Calculated Mean value of g DISAGREE with Mean Value of g estimated by Bulid-in Function numpy.mean') \n",
        "if (abs(sigma_g_cal-sigma_g_fun)/sigma_g_fun<0.001): \n",
        "  print ('Calculated Standard deviation of g AGREE Standard deviation of g estimated by Bulid-in Function numpy.std')\n",
        "else: \n",
        "  print ('Calculated Standard deviation of g DISAGREE Standard deviation of g estimated by Bulid-in Function numpy.std')\n",
        "# Plot the histogram for sample g\n",
        "count, bins, density = plt.hist(g, 100, density=True)\n",
        "# plot the line fit\n",
        "plot1 = plt.figure(1)\n",
        "plt.plot(bins, 1/(sigma_g_fun * np.sqrt(2 * np.pi)) * np.exp( - (bins - mu_g_fun)**2 / (2 * sigma_g_fun**2) ),\n",
        "  linewidth=2, color='r')"
      ]
    }
  ],
  "metadata": {
    "kernelspec": {
      "display_name": "Python 3",
      "language": "python",
      "name": "python3"
    },
    "language_info": {
      "codemirror_mode": {
        "name": "ipython",
        "version": 3
      },
      "file_extension": ".py",
      "mimetype": "text/x-python",
      "name": "python",
      "nbconvert_exporter": "python",
      "pygments_lexer": "ipython3",
      "version": "3.7.6"
    },
    "colab": {
      "name": "Exercise 1 - Normal distributions.ipynb",
      "provenance": [],
      "include_colab_link": true
    }
  },
  "nbformat": 4,
  "nbformat_minor": 0
}