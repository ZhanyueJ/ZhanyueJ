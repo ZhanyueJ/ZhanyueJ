{
  "nbformat": 4,
  "nbformat_minor": 0,
  "metadata": {
    "colab": {
      "name": "Untitled7.ipynb",
      "provenance": [],
      "authorship_tag": "ABX9TyOaCuCUAsdKDuyFKylpje/h",
      "include_colab_link": true
    },
    "kernelspec": {
      "name": "python3",
      "display_name": "Python 3"
    },
    "language_info": {
      "name": "python"
    }
  },
  "cells": [
    {
      "cell_type": "markdown",
      "metadata": {
        "id": "view-in-github",
        "colab_type": "text"
      },
      "source": [
        "<a href=\"https://colab.research.google.com/github/ZhanyueJ/ZhanyueJ/blob/main/PHYS%204110%20HW%202.ipynb\" target=\"_parent\"><img src=\"https://colab.research.google.com/assets/colab-badge.svg\" alt=\"Open In Colab\"/></a>"
      ]
    },
    {
      "cell_type": "code",
      "execution_count": 13,
      "metadata": {
        "id": "E137fDhCTo_9",
        "colab": {
          "base_uri": "https://localhost:8080/"
        },
        "outputId": "a66e0200-b61b-4731-bc2c-3908c1fd66df"
      },
      "outputs": [
        {
          "output_type": "stream",
          "name": "stdout",
          "text": [
            "mu is 398583.224 m^3 Kg s^2\n",
            "Eccentricity is 0.8181818181818182\n",
            "Semimarjor is 55000.0 km\n",
            "Period is 12898643.33951443 sec\n",
            "Energy of the obrit is -3.623483854545453 KJ\n",
            "True anomaly is 1.4351894583855953 rad\n",
            "Perpendicular speed is 5.199995341888685 km per sec\n",
            "speed in r direction is 3.795641697552656 km per sec\n",
            "speed at perigee is 8.512912374205968 km per sec\n",
            "speed at apogee is 0.8512912374205968 km per sec\n"
          ]
        }
      ],
      "source": [
        "%reset -f \n",
        "\n",
        "import numpy as np\n",
        "\n",
        "## Caculation of Question 2\n",
        "\n",
        "\n",
        "# Given parameters \n",
        "m_earth = 5.972 * 10**24 #[kg] \n",
        "\n",
        "G = 6.6742 * 10**-20 #[Km * kg**-1 * s**-2]\n",
        "\n",
        "r_earth = 6371\n",
        "z = 10000 #altitude in km\n",
        "r_a = 100000 #[km]\n",
        "r_p = 10000 #[km]\n",
        "\n",
        "#mu \n",
        "mu = G * m_earth\n",
        "# Angular mo mentum\n",
        "h = np.sqrt(2 * mu) * np.sqrt(r_a * r_p / (r_a + r_p)) \n",
        "\n",
        "print(\"mu is\",mu,\"m^3 Kg s^2\") \n",
        "# Eccentricity\n",
        "e = (r_a - r_p)/(r_a + r_p)\n",
        "print(\"Eccentricity is\",e) \n",
        "# Semimarjor\n",
        "a = (r_a + r_p) / 2\n",
        "print(\"Semimarjor is\",a,\"km\") \n",
        "# Period\n",
        "#T = 2*np.pi / np.sqrt(mu) * a**(3/2)\n",
        "T = a**(3/2)\n",
        "print(\"Period is\",T,\"sec\") \n",
        "# Energy of the obrit \n",
        "eps = -0.5 * (mu/h)**2  * (1 - e**2)\n",
        "print(\"Energy of the obrit is\",eps,\"KJ\")  \n",
        "# True anomaly\n",
        "r = r_earth + z \n",
        "theta = 2 * np.arctan(np.sqrt((1+e)/(1-e)) * np.tan(np.arccos((1-r/a) / e) / 2))\n",
        "print(\"True anomaly is\",theta,\"rad\") \n",
        "# \"Perpendicular speed\" and \"speed in r direction\"\n",
        "v_orh = mu / h * (1 + e * np.cos(theta))\n",
        "v_r = mu / h * e * np.sin(theta)\n",
        "print(\"Perpendicular speed is\",v_orh,\"km per sec\")\n",
        "print(\"speed in r direction is\",v_r,\"km per sec\")\n",
        "# speed at perigee and speed at apogee \n",
        "v_p = np.sqrt((mu / r_p) * 2 * r_a /(r_a + r_p))\n",
        "v_a = np.sqrt((mu / r_a) * 2 * r_p /(r_a + r_p))\n",
        "print(\"speed at perigee is\",v_p,\"km per sec\")\n",
        "print(\"speed at apogee is\",v_a,\"km per sec\")\n",
        "\n"
      ]
    },
    {
      "cell_type": "code",
      "source": [
        "%reset -f \n",
        "\n",
        "import numpy as np\n",
        "\n",
        "## Caculation of Question 3\n",
        "\n",
        "\n",
        "# Given parameters \n",
        "m_earth = 5.972 * 10**24 #[kg] \n",
        "\n",
        "G = 6.6742 * 10**-20 #[Km * kg**-1 * s**-2]\n",
        "\n",
        "r_earth = 6371#[Km]\n",
        "z = 250 #altitude in km\n",
        "\n",
        "r_p = z + r_earth #[km]\n",
        "v_p = 11 #[km/s]\n",
        "\n",
        "\n",
        "#mu\n",
        "mu = G * m_earth \n",
        "\n",
        "# Angular momentum\n",
        "h = r_p * v_p\n",
        "\n",
        "# Hyperbolic excess speed\n",
        "v_inf = np.sqrt(v_p**2 - 2 * mu / r_p)\n",
        "print(\"Hyperbolic excess speed is\",v_inf,\"km per sec\")\n",
        "\n",
        "# Eccentricity\n",
        "e = (h**2 / mu) * (1 / r_p) - 1\n",
        "print(\"Eccentricity is\",e)\n",
        "\n",
        "# Semimarjor\n",
        "a = (h**2 / mu) * 1 / (e**2 - 1)\n",
        "print(\"Semimarjor is\",a,\"km\")\n",
        "\n",
        "# radius\n",
        "theta = 100 #[degree] true anomaly\n",
        "r = a * (e**2 - 1) / (1 + e * np.cos(theta*np.pi/180))\n",
        "print(\"Radius is\",r,\"km\", \"given that true anomaly is\",theta,\"degree\")\n",
        "\n",
        "# \"Perpendicular speed\" and \"speed in r direction\"\n",
        "v_orh = mu / h * (1 + e * np.cos(theta*np.pi/180))\n",
        "v_r = mu / h * e * np.sin(theta*np.pi/180)\n",
        "print(\"Perpendicular speed is\",v_orh,\"km per sec\")\n",
        "print(\"speed in r direction is\",v_r,\"km per sec\")"
      ],
      "metadata": {
        "colab": {
          "base_uri": "https://localhost:8080/"
        },
        "id": "iToL82AD0M_c",
        "outputId": "2ef8e648-6db0-43f3-e835-e739d9ff6bfc"
      },
      "execution_count": 33,
      "outputs": [
        {
          "output_type": "stream",
          "name": "stdout",
          "text": [
            "Hyperbolic excess speed is 0.7747869510476271 km per sec\n",
            "Eccentricity is 1.0099716991601233\n",
            "Semimarjor is 663979.1166662211 km\n",
            "Radius is 16138.364950805084 km given that true anomaly is 100 degree\n",
            "Perpendicular speed is 4.51291070824165 km per sec\n",
            "speed in r direction is 5.443314232128514 km per sec\n"
          ]
        }
      ]
    },
    {
      "cell_type": "code",
      "source": [
        "%reset -f \n",
        "\n",
        "import numpy as np\n",
        "print(\"part a\")\n",
        "## Caculation of Question 5\n",
        "# Part a\n",
        "# Given parameters \n",
        "m_earth = 5.972 * 10**24 #[kg] \n",
        "\n",
        "G = 6.6742 * 10**-20 #[Km * kg**-1 * s**-2]\n",
        "\n",
        "r_earth = 6371#[Km]\n",
        "r_p = 6600 #[km]\n",
        "\n",
        "#mu\n",
        "mu = G * m_earth \n",
        "v_esc = np.sqrt(2*mu / r_p)\n",
        "v_p = 1.2 * v_esc #[km/s]\n",
        "print(\"v_p is\",v_p,\"Km per sec\")\n",
        "# Angular momentum\n",
        "h = r_p * v_p\n",
        "print(\"Angular momentum is\",h,\"Km**2 per sec\")\n",
        "# Eccentricity\n",
        "e = (h**2 / mu) * (1 / r_p) - 1\n",
        "print(\"Eccentricity is\",e)\n",
        "\n",
        "# Mean anomaly\n",
        "def M_h(theta):\n",
        "  M_h = (e*np.sqrt(e**2 - 1) * np.sin(theta*np.pi/180)) / (1+e*np.cos(theta*np.pi/180)) - \\\n",
        "  np.log((np.sqrt(e+1)+np.sqrt(e-1)*np.tan(theta/2*np.pi/180)) / (np.sqrt(e+1)-np.sqrt(e-1)*np.tan(theta/2*np.pi/180)))\n",
        "  return M_h\n",
        "theta_1 = -90\n",
        "theta_2 = 90\n",
        "M_h1 = M_h(theta_1)\n",
        "M_h2 = M_h(theta_2)\n",
        "print(\"Mean anomaly is\",M_h(theta_1),\"given that true anomaly is\",theta_1)\n",
        "print(\"Mean anomaly is\",M_h(theta_2),\"given that true anomaly is\",theta_2)\n",
        "\n",
        "# time point when mean anomaly is estimated\n",
        "def t_at_M_h(M_h):\n",
        "  t_at_M_h = M_h* h**3 / mu**2 / (e**2 - 1 )**(3/2) \n",
        "  return t_at_M_h\n",
        "t1 = t_at_M_h(M_h1)\n",
        "t2 = t_at_M_h(M_h2)\n",
        "print(\"time point is\",t1,\"sec at given that mean anomaly is\",M_h1,\"rad\")\n",
        "print(\"time point is\",t2,\"sec at given that mean anomaly is\",M_h2,\"rad\")\n",
        "dur = t2 - t1\n",
        "print(\"The time for the spacecraft travlling from -90 degree true anomaly to 90 degree is\",\\\n",
        "      dur,\"sec\")\n",
        "print(\"------------------------------------------------------------------------\")\n",
        "\n",
        "# Part b\n",
        "print(\"part b\")\n",
        "t = 24*3600 #sec\n",
        "M_h = mu**2 / h**3 *(e**2 -1)**(3/2) * t\n",
        "print(\"the Mean anomaly of spacecrafe for 24 h will be\", M_h,\"rad\")\n",
        "\n",
        "# F, the eccentric anomaly is calculated by desmos graph calculator\n",
        "F = 4.545 # rad\n",
        "theta = 2 * np.arctan(np.sqrt((e+1)/(e-1)) * np.tanh(F/2))\n",
        "print(\"the True anomaly of spacecrafe for 24 h will be\", theta,\"rad\")\n",
        "\n",
        "# Semimarjor\n",
        "a = (h**2 / mu) * 1 / (e**2 - 1)\n",
        "print(\"Semimarjor is\",a,\"km\")\n",
        "\n",
        "# radius\n",
        "\n",
        "r = a * (e**2 - 1) / (1 + e * np.cos(theta))\n",
        "print(\"Radius is\",r,\"km\", \"given that true anomaly is\",theta,\"degree\")"
      ],
      "metadata": {
        "colab": {
          "base_uri": "https://localhost:8080/"
        },
        "id": "TnWedTb4NViw",
        "outputId": "0672b7da-bc43-42c7-a4bc-82495f48d3d3"
      },
      "execution_count": 57,
      "outputs": [
        {
          "output_type": "stream",
          "name": "stdout",
          "text": [
            "part a\n",
            "v_p is 13.1881471412091 Km per sec\n",
            "Angular momentum is 87041.77113198006 Km**2 per sec\n",
            "Eccentricity is 1.879999999999999\n",
            "Mean anomaly is -1.748197203387152 given that true anomaly is -90\n",
            "Mean anomaly is 1.748197203387152 given that true anomaly is 90\n",
            "time point is -1798.5512117922117 sec at given that mean anomaly is -1.748197203387152 rad\n",
            "time point is 1798.5512117922117 sec at given that mean anomaly is 1.748197203387152 rad\n",
            "The time for the spacecraft travlling from -90 degree true anomaly to 90 degree is 3597.1024235844234 sec\n",
            "------------------------------------------------------------------------\n",
            "part b\n",
            "the Mean anomaly of spacecrafe for 24 h will be 83.98106063498636 rad\n",
            "the True anomaly of spacecrafe for 24 h will be 2.113568658131841 rad\n",
            "Semimarjor is 7500.000000000008 km\n",
            "Radius is 656405.8840439676 km given that true anomaly is 2.113568658131841 degree\n"
          ]
        }
      ]
    }
  ]
}