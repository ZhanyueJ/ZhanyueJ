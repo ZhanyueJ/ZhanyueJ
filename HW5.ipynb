{
  "nbformat": 4,
  "nbformat_minor": 0,
  "metadata": {
    "colab": {
      "name": "Untitled11.ipynb",
      "provenance": [],
      "authorship_tag": "ABX9TyPklQ3z7ZN214qQmeTyzWsZ",
      "include_colab_link": true
    },
    "kernelspec": {
      "name": "python3",
      "display_name": "Python 3"
    },
    "language_info": {
      "name": "python"
    }
  },
  "cells": [
    {
      "cell_type": "markdown",
      "metadata": {
        "id": "view-in-github",
        "colab_type": "text"
      },
      "source": [
        "<a href=\"https://colab.research.google.com/github/ZhanyueJ/ZhanyueJ/blob/main/HW5.ipynb\" target=\"_parent\"><img src=\"https://colab.research.google.com/assets/colab-badge.svg\" alt=\"Open In Colab\"/></a>"
      ]
    },
    {
      "cell_type": "markdown",
      "source": [
        "__Homework #5 Calculation__\n",
        "<br>\n",
        "Zhanyue Jia\n"
      ],
      "metadata": {
        "id": "Jbpk2CwLgUyo"
      }
    },
    {
      "cell_type": "markdown",
      "source": [
        "__Q1__"
      ],
      "metadata": {
        "id": "tVigbM3fqf1X"
      }
    },
    {
      "cell_type": "code",
      "execution_count": 43,
      "metadata": {
        "colab": {
          "base_uri": "https://localhost:8080/"
        },
        "id": "vB5QFVhYgUTr",
        "outputId": "5334e02b-7e5e-4985-9e4a-cb903cee7e9d"
      },
      "outputs": [
        {
          "output_type": "stream",
          "name": "stdout",
          "text": [
            "Part a)\n",
            " The delta_v required for a Hohmann thransfer to 3000 km coplanar circular earth orbit is 1.198 [Km/s]\n",
            "Part b)\n",
            " Transfer orbit time is 3579.327 [s]\n"
          ]
        }
      ],
      "source": [
        "%reset -f\n",
        "import numpy as np\n",
        "\n",
        "##  Q1\n",
        "# Mass of the earth\n",
        "M = 5.972 * 10**24 #[kg] \n",
        "# Gravitivational constant \n",
        "G = 6.6742 * 10**-20 #[Km * kg**-1 * s**-2]\n",
        "# Gravitivational parameter\n",
        "mu = G * M \n",
        "r_earth = 6378 #[km]\n",
        "\n",
        "# Determine the distance of apoapse and periape\n",
        "r_1 = 300 #[km]\n",
        "r_3 = 3000 #[km]\n",
        "r_a = r_earth + r_3\n",
        "r_p = r_earth + r_1\n",
        "\n",
        "# estimate the speed of the spacecraft in orbit-1\n",
        "v_1 = np.sqrt(mu/r_p) #[km/s]\n",
        "# estimate the speed of the spacecraft in orbit-3\n",
        "v_3 = np.sqrt(mu/r_a) #[km/s]\n",
        "\n",
        "# determine v_a and v_p\n",
        "v_a = np.sqrt(mu/r_a * 2*r_p / (r_a + r_p))\n",
        "v_p = np.sqrt(mu/r_p * 2*r_a / (r_a + r_p))\n",
        "# The delta_v required for a Hohmann thransfer to 3000 km coplanar circular earth orbit is \n",
        "delta_v_1 = (v_p-v_1) + (v_3-v_a)\n",
        "print(\"Part a)\")\n",
        "print(\" The delta_v required for a Hohmann thransfer to 3000 km coplanar circular earth orbit is\",np.around(delta_v_1,3),\"[Km/s]\")\n",
        "\n",
        "# Period the the eillpse orbit \n",
        "T = 2*np.pi/np.sqrt(mu)*((r_a + r_p)*0.5)**(3/2)\n",
        "# Transfer orbit time \n",
        "t = 0.5 * T\n",
        "print(\"Part b)\")\n",
        "print(\" Transfer orbit time is\",np.around(t,3),\"[s]\")\n",
        "\n"
      ]
    },
    {
      "cell_type": "markdown",
      "source": [
        "__Q2__"
      ],
      "metadata": {
        "id": "8xYCiNxTqitp"
      }
    },
    {
      "cell_type": "code",
      "source": [
        "%reset -f\n",
        "import numpy as np\n",
        "# Q2\n",
        "#  # Mass of the earth\n",
        "M = 5.972 * 10**24 #[kg] \n",
        "# Gravitivational constant \n",
        "G = 6.6742 * 10**-20 #[Km * kg**-1 * s**-2]\n",
        "# Gravitivational parameter\n",
        "mu = G * M \n",
        "\n",
        "# Eccentricity\n",
        "e_1 = 0.3\n",
        "e_2 = 0.5\n",
        "# Perigee \n",
        "r_p_1 = 7000 #[km]\n",
        "r_p_2 = 32000 #[km]\n",
        "# Estimate apogee \n",
        "r_a_1 = r_p_1 * (1+e_1)/(1-e_1)\n",
        "r_a_2 = r_p_2 * (1+e_2)/(1-e_2)\n",
        "\n",
        "# Angular Momentum\n",
        "h_1 = np.sqrt(2*mu) * np.sqrt((r_a_1*r_p_1)/(r_a_1+r_p_1))\n",
        "h_2 = np.sqrt(2*mu) * np.sqrt((r_a_2*r_p_2)/(r_a_2+r_p_2))\n",
        "h_3 = np.sqrt(2*mu) * np.sqrt((r_a_2*r_p_1)/(r_a_2+r_p_1))\n",
        "# Estimate delta_v\n",
        "delta_13 = h_3/r_p_1 - h_1/r_p_1\n",
        "delta_32 = h_2/r_a_2 - h_3/r_a_2\n",
        "delta_v_132 = delta_13 + delta_32\n",
        "print(\"part a\")\n",
        "print(\" The total delta_v is\",np.around(delta_v_132,3),\"[Km/s]\")\n",
        "# Period the the eillpse orbit-3 \n",
        "T_132 = 2*np.pi/np.sqrt(mu)*((r_a_2 + r_p_1)*0.5)**(3/2)\n",
        "# Transfer orbit time \n",
        "t_132 = 0.5 * T_132\n",
        "print(\" Transfer orbit time is\",np.around(t_132,3),\"[s]\")\n",
        "\n",
        "\n",
        "# part b\n",
        "# Angular Momentum\n",
        "h_4 = np.sqrt(2*mu) * np.sqrt((r_a_1*r_p_2)/(r_a_1+r_p_2))\n",
        "# Estimate delta_v\n",
        "delta_14 = h_4/r_a_1 - h_1/r_a_1\n",
        "delta_42 = h_2/r_p_2 - h_4/r_p_2\n",
        "delta_v_142 = delta_14 + delta_42\n",
        "print(\"part b\")\n",
        "print(\" The total delta_v is\",np.around(delta_v_142,3),\"[Km/s]\")\n",
        "# Period the the eillpse orbit-4 \n",
        "T_142 = 2*np.pi/np.sqrt(mu)*((r_a_1 + r_p_2)*0.5)**(3/2)\n",
        "# Transfer orbit time \n",
        "t_142 = 0.5 * T_142\n",
        "print(\" Transfer orbit time is\",np.around(t_142,3),\"[s]\")\n"
      ],
      "metadata": {
        "colab": {
          "base_uri": "https://localhost:8080/"
        },
        "id": "6jwkkv8kqeSY",
        "outputId": "1e6909c8-b3bc-4a88-e407-6a5351894816"
      },
      "execution_count": 84,
      "outputs": [
        {
          "output_type": "stream",
          "name": "stdout",
          "text": [
            "part a\n",
            " The total delta_v is 2.388 [Km/s]\n",
            " Transfer orbit time is 58156.895 [s]\n",
            "part b\n",
            " The total delta_v is 3.611 [Km/s]\n",
            " Transfer orbit time is 16794.386 [s]\n"
          ]
        }
      ]
    },
    {
      "cell_type": "markdown",
      "source": [
        "__Q3__"
      ],
      "metadata": {
        "id": "nsb6REhyCgIA"
      }
    },
    {
      "cell_type": "code",
      "source": [
        "%reset -f\n",
        "import numpy as np\n",
        "# Q3\n",
        "#  # Mass of the earth\n",
        "M = 5.972 * 10**24 #[kg] \n",
        "# Gravitivational constant \n",
        "G = 6.6742 * 10**-20 #[Km * kg**-1 * s**-2]\n",
        "# Gravitivational parameter\n",
        "mu = G * M \n",
        "\n",
        "# Given data\n",
        "r_1 = 8000 #[km]\n",
        "r_2 = 14000 #[km]\n",
        "# Speed of S1 and S2 in orbit-1 and orbit-2\n",
        "v_1 = np.sqrt(mu/r_1)\n",
        "v_2 = np.sqrt(mu/r_2)\n",
        "# Angular momentum of Orbit 3\n",
        "h_3 = np.sqrt(2*mu) * np.sqrt((r_1*r_2)/(r_1+r_2))\n",
        "# speed of S1 at perigee and apoegee\n",
        "v_a_3 = h_3/r_2\n",
        "v_p_3 = h_3/r_1\n",
        "\n",
        "# Transfer time\n",
        "T_3 = 2*np.pi/np.sqrt(mu)*((r_1 + r_2)*0.5)**(3/2)\n",
        "t_3 = 0.5 * T_3\n",
        "# period of orbit 2\n",
        "T_2 = 2*np.pi/np.sqrt(mu)*(r_2)**(3/2)\n",
        "# Estimate the period of phasing orbit\n",
        "T_p = 1.5*T_2 - t_3\n",
        "# a of phasing orbit\n",
        "a = (T_p**2 * mu / (4*np.pi**2)**(1/3)\n",
        "# Delta_v\n",
        "v_13 = v_p_3 - v_1\n",
        "v_32 = v_2 - v_a_3\n",
        "delta_v = v_13 + v_32"
      ],
      "metadata": {
        "colab": {
          "base_uri": "https://localhost:8080/",
          "height": 138
        },
        "id": "djw7r3LSCmuk",
        "outputId": "ca2b2e6c-9d60-4398-d892-140d2ce05ca8"
      },
      "execution_count": 27,
      "outputs": [
        {
          "output_type": "error",
          "ename": "SyntaxError",
          "evalue": "ignored",
          "traceback": [
            "\u001b[0;36m  File \u001b[0;32m\"<ipython-input-27-062a648c8201>\"\u001b[0;36m, line \u001b[0;32m33\u001b[0m\n\u001b[0;31m    v_13 = v_p_3 - v_1\u001b[0m\n\u001b[0m       ^\u001b[0m\n\u001b[0;31mSyntaxError\u001b[0m\u001b[0;31m:\u001b[0m invalid syntax\n"
          ]
        }
      ]
    }
  ]
}