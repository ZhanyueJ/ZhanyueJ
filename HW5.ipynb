{
  "nbformat": 4,
  "nbformat_minor": 0,
  "metadata": {
    "colab": {
      "name": "Untitled11.ipynb",
      "provenance": [],
      "authorship_tag": "ABX9TyM88LlkZw2cRXAnBVoFJede",
      "include_colab_link": true
    },
    "kernelspec": {
      "name": "python3",
      "display_name": "Python 3"
    },
    "language_info": {
      "name": "python"
    }
  },
  "cells": [
    {
      "cell_type": "markdown",
      "metadata": {
        "id": "view-in-github",
        "colab_type": "text"
      },
      "source": [
        "<a href=\"https://colab.research.google.com/github/ZhanyueJ/ZhanyueJ/blob/main/HW5.ipynb\" target=\"_parent\"><img src=\"https://colab.research.google.com/assets/colab-badge.svg\" alt=\"Open In Colab\"/></a>"
      ]
    },
    {
      "cell_type": "markdown",
      "source": [
        "__Homework #5 Calculation__\n",
        "<br>\n",
        "Zhanyue Jia\n"
      ],
      "metadata": {
        "id": "Jbpk2CwLgUyo"
      }
    },
    {
      "cell_type": "markdown",
      "source": [
        "__Q1__"
      ],
      "metadata": {
        "id": "tVigbM3fqf1X"
      }
    },
    {
      "cell_type": "code",
      "execution_count": 1,
      "metadata": {
        "colab": {
          "base_uri": "https://localhost:8080/"
        },
        "id": "vB5QFVhYgUTr",
        "outputId": "9aa1ef00-af31-4284-e0ed-e34c85e5ee35"
      },
      "outputs": [
        {
          "output_type": "stream",
          "name": "stdout",
          "text": [
            "Part a)\n",
            " The delta_v required for a Hohmann thransfer to 3000 km coplanar circular earth orbit is 1.198 [Km/s]\n",
            "Part b)\n",
            " Transfer orbit time is 3579.327 [s]\n"
          ]
        }
      ],
      "source": [
        "%reset -f\n",
        "import numpy as np\n",
        "\n",
        "##  Q1\n",
        "# Mass of the earth\n",
        "M = 5.972 * 10**24 #[kg] \n",
        "# Gravitivational constant \n",
        "G = 6.6742 * 10**-20 #[Km * kg**-1 * s**-2]\n",
        "# Gravitivational parameter\n",
        "mu = G * M \n",
        "r_earth = 6378 #[km]\n",
        "\n",
        "# Determine the distance of apoapse and periape\n",
        "r_1 = 300 #[km]\n",
        "r_3 = 3000 #[km]\n",
        "r_a = r_earth + r_3\n",
        "r_p = r_earth + r_1\n",
        "\n",
        "# estimate the speed of the spacecraft in orbit-1\n",
        "v_1 = np.sqrt(mu/r_p) #[km/s]\n",
        "# estimate the speed of the spacecraft in orbit-3\n",
        "v_3 = np.sqrt(mu/r_a) #[km/s]\n",
        "\n",
        "# determine v_a and v_p\n",
        "v_a = np.sqrt(mu/r_a * 2*r_p / (r_a + r_p))\n",
        "v_p = np.sqrt(mu/r_p * 2*r_a / (r_a + r_p))\n",
        "# The delta_v required for a Hohmann thransfer to 3000 km coplanar circular earth orbit is \n",
        "delta_v_1 = (v_p-v_1) + (v_3-v_a)\n",
        "print(\"Part a)\")\n",
        "print(\" The delta_v required for a Hohmann thransfer to 3000 km coplanar circular earth orbit is\",np.around(delta_v_1,3),\"[Km/s]\")\n",
        "\n",
        "# Period the the eillpse orbit \n",
        "T = 2*np.pi/np.sqrt(mu)*((r_a + r_p)*0.5)**(3/2)\n",
        "# Transfer orbit time \n",
        "t = 0.5 * T\n",
        "print(\"Part b)\")\n",
        "print(\" Transfer orbit time is\",np.around(t,3),\"[s]\")\n",
        "\n"
      ]
    },
    {
      "cell_type": "markdown",
      "source": [
        "__Q2__"
      ],
      "metadata": {
        "id": "8xYCiNxTqitp"
      }
    },
    {
      "cell_type": "code",
      "source": [
        "%reset -f\n",
        "import numpy as np\n",
        "# Q2\n",
        "#  # Mass of the earth\n",
        "M = 5.972 * 10**24 #[kg] \n",
        "# Gravitivational constant \n",
        "G = 6.6742 * 10**-20 #[Km * kg**-1 * s**-2]\n",
        "# Gravitivational parameter\n",
        "mu = G * M \n",
        "\n",
        "# Eccentricity\n",
        "e_1 = 0.3\n",
        "e_2 = 0.5\n",
        "# Perigee \n",
        "r_p_1 = 7000 #[km]\n",
        "r_p_2 = 32000 #[km]\n",
        "# Estimate apogee \n",
        "r_a_1 = r_p_1 * (1+e_1)/(1-e_1)\n",
        "r_a_2 = r_p_2 * (1+e_2)/(1-e_2)\n",
        "\n",
        "# Angular Momentum\n",
        "h_1 = np.sqrt(2*mu) * np.sqrt((r_a_1*r_p_1)/(r_a_1+r_p_1))\n",
        "h_2 = np.sqrt(2*mu) * np.sqrt((r_a_2*r_p_2)/(r_a_2+r_p_2))\n",
        "h_3 = np.sqrt(2*mu) * np.sqrt((r_a_2*r_p_1)/(r_a_2+r_p_1))\n",
        "# Estimate delta_v\n",
        "delta_13 = h_3/r_p_1 - h_1/r_p_1\n",
        "delta_32 = h_2/r_a_2 - h_3/r_a_2\n",
        "delta_v_132 = delta_13 + delta_32\n",
        "print(\"part a\")\n",
        "print(\" The total delta_v is\",np.around(delta_v_132,3),\"[Km/s]\")\n",
        "# Period the the eillpse orbit-3 \n",
        "T_132 = 2*np.pi/np.sqrt(mu)*((r_a_2 + r_p_1)*0.5)**(3/2)\n",
        "# Transfer orbit time \n",
        "t_132 = 0.5 * T_132\n",
        "print(\" Transfer orbit time is\",np.around(t_132,3),\"[s]\")\n",
        "\n",
        "\n",
        "# part b\n",
        "# Angular Momentum\n",
        "h_4 = np.sqrt(2*mu) * np.sqrt((r_a_1*r_p_2)/(r_a_1+r_p_2))\n",
        "# Estimate delta_v\n",
        "delta_14 = h_4/r_a_1 - h_1/r_a_1\n",
        "delta_42 = h_2/r_p_2 - h_4/r_p_2\n",
        "delta_v_142 = delta_14 + delta_42\n",
        "print(\"part b\")\n",
        "print(\" The total delta_v is\",np.around(delta_v_142,3),\"[Km/s]\")\n",
        "# Period the the eillpse orbit-4 \n",
        "T_142 = 2*np.pi/np.sqrt(mu)*((r_a_1 + r_p_2)*0.5)**(3/2)\n",
        "# Transfer orbit time \n",
        "t_142 = 0.5 * T_142\n",
        "print(\" Transfer orbit time is\",np.around(t_142,3),\"[s]\")\n"
      ],
      "metadata": {
        "colab": {
          "base_uri": "https://localhost:8080/"
        },
        "id": "6jwkkv8kqeSY",
        "outputId": "2f8a8b18-5ad8-4388-c76e-3d6b5efa31ea"
      },
      "execution_count": 2,
      "outputs": [
        {
          "output_type": "stream",
          "name": "stdout",
          "text": [
            "part a\n",
            " The total delta_v is 2.388 [Km/s]\n",
            " Transfer orbit time is 58156.895 [s]\n",
            "part b\n",
            " The total delta_v is 3.611 [Km/s]\n",
            " Transfer orbit time is 16794.386 [s]\n"
          ]
        }
      ]
    },
    {
      "cell_type": "markdown",
      "source": [
        "__Q3__"
      ],
      "metadata": {
        "id": "nsb6REhyCgIA"
      }
    },
    {
      "cell_type": "code",
      "source": [
        "%reset -f\n",
        "import numpy as np\n",
        "# Q3\n",
        "#  # Mass of the earth\n",
        "M = 5.972 * 10**24 #[kg] \n",
        "# Gravitivational constant \n",
        "G = 6.6742 * 10**-20 #[Km * kg**-1 * s**-2]\n",
        "# Gravitivational parameter\n",
        "mu = G * M \n",
        "\n",
        "# Given data\n",
        "r_1 = 8000 #[km]\n",
        "r_2 = 14000 #[km]\n",
        "# Speed of S1 and S2 in orbit-1 and orbit-2\n",
        "v_1 = np.sqrt(mu/r_1)\n",
        "v_2 = np.sqrt(mu/r_2)\n",
        "# Angular momentum of Orbit 3\n",
        "h_3 = np.sqrt(2*mu) * np.sqrt((r_1*r_2)/(r_1+r_2))\n",
        "# speed of S1 at perigee and apoegee\n",
        "v_a_3 = h_3/r_2\n",
        "v_p_3 = h_3/r_1\n",
        "\n",
        "# Transfer time\n",
        "T_3 = 2*np.pi/np.sqrt(mu)*((r_1 + r_2)*0.5)**(3/2)\n",
        "t_3 = 0.5 * T_3\n",
        "# period of orbit 2\n",
        "T_2 = 2*np.pi/np.sqrt(mu)*(r_2)**(3/2)\n",
        "# Estimate the period of phasing orbit\n",
        "T_p = 1.5*T_2 - t_3\n",
        "print(\" Transfer orbit time is\",np.around(1.5*T_2,3),\"[s]\")\n",
        "# a of phasing orbit\n",
        "a = ((T_p**2) * mu / (4*np.pi**2))**(1/3)\n",
        "# Determine the aprogee of phasing orbit\n",
        "r_a = 2*a-r_2\n",
        "# Angular momentum of phasing orbit\n",
        "h_p = np.sqrt(2*mu) * np.sqrt((r_a*r_2)/(r_a+r_2))\n",
        "# Speed of S1 at prigee of phasing orbit\n",
        "v_phase_p = h_p/r_2\n",
        "# Delta_v\n",
        "v_13 = v_p_3 - v_1\n",
        "v_32 = v_phase_p - v_a_3\n",
        "v_2p = v_phase_p - v_2\n",
        "delta_v = v_13 + v_32 + v_2p\n",
        "print(\" The total delta_v is\",np.around(delta_v,3),\"[Km/s]\")"
      ],
      "metadata": {
        "colab": {
          "base_uri": "https://localhost:8080/"
        },
        "id": "djw7r3LSCmuk",
        "outputId": "951ec80b-5bd2-459e-8de9-ac770aaaf365"
      },
      "execution_count": 43,
      "outputs": [
        {
          "output_type": "stream",
          "name": "stdout",
          "text": [
            " Transfer orbit time is 24728.836 [s]\n",
            " The total delta_v is 2.159 [Km/s]\n"
          ]
        }
      ]
    },
    {
      "cell_type": "markdown",
      "source": [
        "__Q5__\n"
      ],
      "metadata": {
        "id": "aeEs_JW1E4TS"
      }
    },
    {
      "cell_type": "code",
      "source": [
        "%reset -f\n",
        "import numpy as np\n",
        "#Q5\n",
        "\n",
        "# Inclination of launch \n",
        "i = 51.43 #degree\n",
        "# latitude of launch site\n",
        "#Kennedy Space Center (latitude = 28.5\u000eN);\n",
        "pei_KSC = 28.5 #degree\n",
        "#Vandenburgh AFB (latitude = 34.5\u000eN)\n",
        "pei_AFB = 34.5\n",
        "#Kourou French Guiana (latitude = 5.5\u000eN)\n",
        "pei_KFG = 5.5\n",
        "\n",
        "# Estimate the launch azimuth\n",
        "#Kennedy Space Center\n",
        "A_KSC = np.arccos(np.cos(i*np.pi/180)/np.cos(pei_KSC*np.pi/180)) * 180/np.pi\n",
        "print(\"The launch azimuth from Kennedy Space Center is\",np.around(A_KSC,3),\"[Degree]\" )\n",
        "#Vandenburgh AFB\n",
        "A_AFB = np.arccos(np.cos(i*np.pi/180)/np.cos(pei_AFB*np.pi/180)) * 180/np.pi\n",
        "print(\"The launch azimuth from Vandenburgh AFB is\",np.around(A_AFB,3),\"[Degree]\" )\n",
        "#Kourou French Guiana\n",
        "A_KFG = np.arccos(np.cos(i*np.pi/180)/np.cos(pei_KFG*np.pi/180)) * 180/np.pi\n",
        "print(\"The launch azimuth from Kourou French Guiana is\",np.around(A_KFG,3),\"[Degree]\" )"
      ],
      "metadata": {
        "id": "33SXrmjlE6ZM",
        "outputId": "14843e8c-57fb-4961-f139-fe95fd251f75",
        "colab": {
          "base_uri": "https://localhost:8080/"
        }
      },
      "execution_count": 56,
      "outputs": [
        {
          "output_type": "stream",
          "name": "stdout",
          "text": [
            "The launch azimuth from Kennedy Space Center is 44.81 [Degree]\n",
            "The launch azimuth from Vandenburgh AFB is 40.841 [Degree]\n",
            "The launch azimuth from Kourou French Guiana is 51.218 [Degree]\n"
          ]
        }
      ]
    },
    {
      "cell_type": "markdown",
      "source": [
        "__Q6__"
      ],
      "metadata": {
        "id": "_wcGKY1OqAXB"
      }
    },
    {
      "cell_type": "code",
      "source": [
        "%reset -f\n",
        "import numpy as np\n",
        "# Q6\n",
        "\n",
        "# Radius of two circualr oribits\n",
        "r_earth = 6378 #[km]\n",
        "r_1 = r_earth + 300 #[km]\n",
        "r_2 = r_earth + 600 #[km]\n",
        "# Basic parameters\n",
        "\n",
        "#  # Mass of the earth\n",
        "M = 5.972 * 10**24 #[kg] \n",
        "# Gravitivational constant \n",
        "G = 6.6742 * 10**-20 #[Km * kg**-1 * s**-2]\n",
        "# Gravitivational parameter\n",
        "mu = G * M \n",
        "\n",
        "# speed of orbit-1 and orbit-2\n",
        "v_1 = np.sqrt(mu/r_1)\n",
        "v_2 = np.sqrt(mu/r_2)\n",
        "# Angular momentum of orbit-3\n",
        "h_3 = np.sqrt(2*mu) * np.sqrt((r_1*r_2)/(r_1+r_2))\n",
        "# speed of scapecarft at the aprogee of orbit-3\n",
        "v_a_3 = h_3/r_2\n",
        "# speed of scapecarft at the perigee of orbit-3\n",
        "v_p_3 = h_3/r_1\n",
        "\n",
        "# Inclination\n",
        "i = 20\n",
        "# Delta-v part a\n",
        "delta_va = (v_p_3-v_1) + (v_2-v_a_3) + 2*np.sin(i/2 *np.pi/180)*v_2\n",
        "print(\"delta-v required in part a is\",np.around(delta_va,3))\n",
        "# Delta-v part b\n",
        "delta_vb = (v_p_3-v_1) + np.sqrt(v_a_3**2 + v_2**2 - 2*v_a_3*v_2*np.cos(i*np.pi/180))\n",
        "print(\"delta-v required in part b is\",np.around(delta_vb,3))\n",
        "# Delta-v part c\n",
        "delta_vc =  np.sqrt(v_p_3**2 + v_1**2 - 2*v_p_3*v_1*np.cos(i*np.pi/180)) +(v_2-v_a_3)\n",
        "print(\"delta-v required in part c is\",np.around(delta_vc,3))"
      ],
      "metadata": {
        "id": "Q8bVavU0qCxV",
        "outputId": "1ce4e02a-4b7e-4970-f6a2-2748145c966f",
        "colab": {
          "base_uri": "https://localhost:8080/"
        }
      },
      "execution_count": 23,
      "outputs": [
        {
          "output_type": "stream",
          "name": "stdout",
          "text": [
            "delta-v required in part a is 2.793\n",
            "delta-v required in part b is 2.696\n",
            "delta-v required in part c is 2.783\n"
          ]
        }
      ]
    }
  ]
}