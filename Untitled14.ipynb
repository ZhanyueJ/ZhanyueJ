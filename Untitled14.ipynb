{
  "nbformat": 4,
  "nbformat_minor": 0,
  "metadata": {
    "colab": {
      "name": "Untitled14.ipynb",
      "provenance": [],
      "authorship_tag": "ABX9TyMzYaGzQCGSeiYTO9ieC/4W",
      "include_colab_link": true
    },
    "kernelspec": {
      "name": "python3",
      "display_name": "Python 3"
    },
    "language_info": {
      "name": "python"
    }
  },
  "cells": [
    {
      "cell_type": "markdown",
      "metadata": {
        "id": "view-in-github",
        "colab_type": "text"
      },
      "source": [
        "<a href=\"https://colab.research.google.com/github/ZhanyueJ/ZhanyueJ/blob/main/Untitled14.ipynb\" target=\"_parent\"><img src=\"https://colab.research.google.com/assets/colab-badge.svg\" alt=\"Open In Colab\"/></a>"
      ]
    },
    {
      "cell_type": "code",
      "execution_count": 25,
      "metadata": {
        "colab": {
          "base_uri": "https://localhost:8080/"
        },
        "id": "6uH6l6IQ_y9a",
        "outputId": "0f331733-0ced-4d9a-ccdb-8a7195bbf69c"
      },
      "outputs": [
        {
          "output_type": "stream",
          "name": "stdout",
          "text": [
            "delta_r is 7.299 KM\n",
            "delta_v is 0.009 KM/sec\n"
          ]
        }
      ],
      "source": [
        "%reset -f\n",
        "import numpy as np\n",
        "# Q1\n",
        "# Period \n",
        "T = 2*3600 #[sec]\n",
        "# angular velocity\n",
        "n = 2*np.pi/T\n",
        "# time interval \n",
        "t = 30*60 #[sec]\n",
        "\n",
        "psi_rr = np.array([[4-3*np.cos(n*t),0,0],\n",
        "                  [6*(np.sin(n*t)-n*t),0,0],\n",
        "                  [0,0,np.cos(n*t)]])\n",
        "psi_rv = ([[1/n*np.sin(n*t),2/n*(1-np.cos(n*t)),0],\n",
        "           [2/n*(np.cos(n*t)-1),1/n*(4*np.sin(n*t)-3*n*t),0],\n",
        "           [0,0,1/n*np.sin(n*t)]])\n",
        "psi_vr = ([[3*n*np.sin(n*t),0,0],\n",
        "           [6*n*(np.cos(n*t)-1),0,0],\n",
        "           [0,0,-n*np.sin(n*t)]])\n",
        "psi_vv = ([[np.cos(n*t),0,0],\n",
        "           [-2*np.sin(n*t),4*np.cos(n*t)-3,0],\n",
        "           [0,0,np.cos(n*t)]])\n",
        "\n",
        "delta_r0 = np.array([0,6,0])\n",
        "delta_v0 = np.array([0,3*10**-3,0])\n",
        "# equation of r and v\n",
        "delta_r = psi_rr*delta_r0+psi_rv*delta_v0\n",
        "delta_v = psi_vr*delta_r0+psi_vv*delta_v0\n",
        "# Magnitude of r and v\n",
        "delta_r_mag = np.linalg.norm(delta_r)\n",
        "delta_v_mag = np.linalg.norm(delta_v)\n",
        "print(\"delta_r is\",np.round(delta_r_mag,3),\"KM\")\n",
        "print(\"delta_v is\",np.round(delta_v_mag,3),\"KM/sec\")"
      ]
    },
    {
      "cell_type": "code",
      "source": [
        "%reset -f\n",
        "import numpy as np\n",
        "# Q2\n",
        "# G parameter of sun  and earth\n",
        "mu_e = 398600\n",
        "mu_s = 132.712*10**9 #km**3/s**2\n",
        "# R1 (Earth to Sun)\n",
        "R1 = 1.496*10**8\n",
        "# R2 (Saturn to Sun)\n",
        "R2 = 1.433*10**9\n",
        "# Period of ellipse \n",
        "T = 2*np.pi/np.sqrt(mu_s)*(0.5*(R1+R2))**(3/2) \n",
        "# time for tansfer\n",
        "t = 0.5*T\n",
        "# Cross Velocity \n",
        "v_cross = np.sqrt(mu_s*(2/R1-1/(0.5*(R1+R2))))\n",
        "# Velocity of the earth\n",
        "v_earth = np.sqrt(mu_s/R1)\n",
        "# v_inf\n",
        "v_inf = v_cross - v_earth\n",
        "print(\"v_inf is\",np.round(v_inf,3),\"KM/sec\")\n",
        "# Estimate the radius of the circular earth orbit\n",
        "r = 6378+180\n",
        "# Speed of the spacecraft in this orbit\n",
        "v_r = np.sqrt(mu_e/r)\n",
        "# Speed at perigee\n",
        "v_p = np.sqrt(v_inf**2 + 2*mu_e/r)\n",
        "# delta_v of this tranfer \n",
        "delta_v = v_p - v_r\n",
        "\n",
        "# delta_m for the transfer\n",
        "I_sp = 300\n",
        "g0 = 9.81*10**3 #km/s2\n",
        "delta_m_cof = (1-np.exp(-delta_v/(I_sp*g0)))"
      ],
      "metadata": {
        "colab": {
          "base_uri": "https://localhost:8080/"
        },
        "id": "DmYFAjzEO7tT",
        "outputId": "dbbd9741-6f49-4b16-bb67-301eec7225b3"
      },
      "execution_count": 23,
      "outputs": [
        {
          "output_type": "stream",
          "name": "stdout",
          "text": [
            "v_inf is 10.297 KM/sec\n"
          ]
        }
      ]
    }
  ]
}