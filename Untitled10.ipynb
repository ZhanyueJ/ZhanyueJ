{
  "nbformat": 4,
  "nbformat_minor": 0,
  "metadata": {
    "colab": {
      "name": "Untitled10.ipynb",
      "provenance": [],
      "authorship_tag": "ABX9TyOg38K9CHsrBUs6HvycH3wF",
      "include_colab_link": true
    },
    "kernelspec": {
      "name": "python3",
      "display_name": "Python 3"
    },
    "language_info": {
      "name": "python"
    }
  },
  "cells": [
    {
      "cell_type": "markdown",
      "metadata": {
        "id": "view-in-github",
        "colab_type": "text"
      },
      "source": [
        "<a href=\"https://colab.research.google.com/github/ZhanyueJ/ZhanyueJ/blob/main/Untitled10.ipynb\" target=\"_parent\"><img src=\"https://colab.research.google.com/assets/colab-badge.svg\" alt=\"Open In Colab\"/></a>"
      ]
    },
    {
      "cell_type": "code",
      "execution_count": 1,
      "metadata": {
        "id": "uHaUQ8XPRvB7"
      },
      "outputs": [],
      "source": [
        "%reset -f\n",
        "import numpy as np\n",
        "\n",
        "# Mass of the earth\n",
        "M = 5.972 * 10**24 #[kg] \n",
        "# Gravitivational constant \n",
        "G = 6.6742 * 10**-20 #[Km**3 * kg**-1 * s**-2]\n",
        "# Gravitivational parameter\n",
        "mu = G * M \n",
        "# properties \n",
        "a = 7000\n",
        "e = 0.05\n",
        "i = (45) * np.pi/180\n",
        "OMG = (10) * np.pi/180\n",
        "omega = (20) * np.pi/180\n",
        "theta = (90) * np.pi/180\n",
        "step = 60\n",
        "J2 = 1.08263*10**-3\n",
        "r_earth = 6371\n",
        "# radius at this moment\n",
        "E = np.arccos((e+np.cos(theta))/(1+e*np.cos(theta)))\n",
        "r = a*(1-e*np.cos(E))\n",
        "# Perturbing Acceleration # in unit [KM/s**2]\n",
        "p_r = 3/2 * J2 * (mu*r_earth**2)/(r**4) * (3*(np.sin(i)**2)*(np.sin(omega+theta)**2)-1)\n",
        "p_orh = -3/2 * J2 * (mu*r_earth**2)/(r**4) * (np.sin(i)**2) * np.sin(2*(omega+theta))\n",
        "p_h = -3/2 * J2 * (mu*r_earth**2)/(r**4) * (np.sin(2*i)) * np.sin(omega+theta)\n",
        "# Perturbing Acceleration vector\n",
        "p = np.array([p_r,p_orh,p_h])\n",
        "p_mag = np.linalg.norm(p)\n",
        "\n",
        "omega_dot = np.sqrt(p_mag/mu)*(-np.cos(theta)/e*p_r \n",
        "                    + (1+r/p_mag)*np.sin(theta)/e*p_orh\n",
        "                    - r/p_mag*np.sin(omega+theta)*(1/np.tan(i))*p_h)\n",
        "\n",
        "OMG_dot = r/np.sqrt(mu*p_mag) * np.sin(omega+theta)/np.sin(i) * p_h\n",
        "# omega_dot and OMG_dot are in unit [rad/s]\n",
        "# then conver therm in [deg/day](dpd)\n",
        "omega_dot_in_dpd = omega_dot * 0.19910213e-6\n",
        "OMG_dot_in_dpd = OMG_dot * 0.19910213e-6\n",
        "\n"
      ]
    },
    {
      "cell_type": "code",
      "source": [
        ""
      ],
      "metadata": {
        "id": "WtG1vDzEdYFd"
      },
      "execution_count": null,
      "outputs": []
    },
    {
      "cell_type": "code",
      "source": [
        "\n",
        "#  Sun-Synchronous Orbit\n",
        "\n",
        "%reset -f\n",
        "import numpy as np\n",
        "\n",
        "# Mass of the earth\n",
        "M = 5.972 * 10**24 #[kg] \n",
        "# Gravitivational constant \n",
        "G = 6.6742 * 10**-20 #[Km**3 * kg**-1 * s**-2]\n",
        "# Gravitivational parameter\n",
        "mu = G * M \n",
        "# properties \n",
        "a = 7000\n",
        "e = 0.001\n",
        "J2 = 1.08263*10**-3\n",
        "r_earth = 6371\n",
        "OMG_dot = 0.19910213 * 10**-6\n",
        "# inclination needed for  Sun-Synchronous satellite\n",
        "i = np.arccos(-2/3 * OMG_dot * 1/J2 * ((a*(1-e**2)**2)/r_earth)**2 * np.sqrt(a**3 / mu))\n",
        "i = np.degrees(i)\n"
      ],
      "metadata": {
        "id": "m2Aqtc48w9Cw"
      },
      "execution_count": 52,
      "outputs": []
    }
  ]
}