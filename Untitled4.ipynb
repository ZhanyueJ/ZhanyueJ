{
  "nbformat": 4,
  "nbformat_minor": 0,
  "metadata": {
    "colab": {
      "name": "Untitled4.ipynb",
      "provenance": [],
      "collapsed_sections": []
    },
    "kernelspec": {
      "name": "python3",
      "display_name": "Python 3"
    },
    "language_info": {
      "name": "python"
    }
  },
  "cells": [
    {
      "cell_type": "code",
      "execution_count": 12,
      "metadata": {
        "colab": {
          "base_uri": "https://localhost:8080/"
        },
        "id": "Gs8kSvZ3CvXv",
        "outputId": "0dcdb7a1-8b4d-4551-fdab-a69fb0cc717f"
      },
      "outputs": [
        {
          "output_type": "stream",
          "name": "stdout",
          "text": [
            "Vector of Absoulate Velocity of P [121.85787  -50.877542  83.84922 ] (m/s)\n",
            "Vector of Absoulate Acceleration of P [-27.4910984  70.521848  -38.9589108] (ms^-2)\n"
          ]
        }
      ],
      "source": [
        "%reset -f\n",
        "import numpy as np\n",
        "r_0 = np.array([-16, 84, 59]) \n",
        "v_0 = np.array([7, 9, 4])\n",
        "a_0 = np.array([3, -7, 4])\n",
        "\n",
        "omega = np.array([-0.8, 0.7, 0.4])\n",
        "omega_dot = np.array([-0.4, 0.9, -1])\n",
        "\n",
        "# unit vector of moving frame in unit vector of inertial frame\n",
        "i = np.array([-0.15617, -0.31235, 0.93704])\n",
        "j = np.array([-0.1294, 0.94698, 0.29409])\n",
        "k = np.array([-0.97922, -0.075324, -0.1883])\n",
        "\n",
        "r = np.array([51, -45, 36])\n",
        "\n",
        "# Estimate r_rel\n",
        "r_rel = r - r_0\n",
        "# conversion required for v_rel and a_rel\n",
        "v_rel_cov_re = np.array([31, -68, -77]) # in moving frame\n",
        "a_rel_cov_re = np.array([2, -6, 5]) # in moving frame\n",
        "\n",
        "v_rel_1 = [v_rel_cov_re[0]*i, v_rel_cov_re[1]*j, v_rel_cov_re[2]*k]\n",
        "a_rel_1 = [a_rel_cov_re[0]*i, a_rel_cov_re[1]*j, a_rel_cov_re[2]*k]\n",
        "v_rel = v_rel_1[0]+ v_rel_1[1]+v_rel_1[2]\n",
        "a_rel = a_rel_1[0]+ a_rel_1[1]+a_rel_1[2]\n",
        "\n",
        "# Estimate v and a of absolute postition of P\n",
        "v = v_0 + v_rel + np.cross(omega, r_rel)\n",
        "a = a_0 + a_rel + np.cross(2*omega, v_rel) + np.cross(omega_dot, r_rel)\\\n",
        " + np.cross(omega,np.cross(omega,r_rel))\n",
        "# Ans\n",
        "print (\"Vector of Absoulate Velocity of P\",v,\"(m/s)\")\n",
        "print (\"Vector of Absoulate Acceleration of P\",a,\"(ms^-2)\")"
      ]
    }
  ]
}