{
  "nbformat": 4,
  "nbformat_minor": 0,
  "metadata": {
    "colab": {
      "name": "Untitled9.ipynb",
      "provenance": [],
      "authorship_tag": "ABX9TyO+AdXoBm2KfjdxGIbKfuOL",
      "include_colab_link": true
    },
    "kernelspec": {
      "name": "python3",
      "display_name": "Python 3"
    },
    "language_info": {
      "name": "python"
    }
  },
  "cells": [
    {
      "cell_type": "markdown",
      "metadata": {
        "id": "view-in-github",
        "colab_type": "text"
      },
      "source": [
        "<a href=\"https://colab.research.google.com/github/ZhanyueJ/ZhanyueJ/blob/main/PHYS4110HW%233.ipynb\" target=\"_parent\"><img src=\"https://colab.research.google.com/assets/colab-badge.svg\" alt=\"Open In Colab\"/></a>"
      ]
    },
    {
      "cell_type": "code",
      "execution_count": 80,
      "metadata": {
        "colab": {
          "base_uri": "https://localhost:8080/"
        },
        "id": "hTxd46_pur-6",
        "outputId": "ddee109d-d72b-44b5-ba46-fb0c7222c8f3"
      },
      "outputs": [
        {
          "output_type": "stream",
          "name": "stdout",
          "text": [
            " Distance is 16680.827 Km\n",
            " Speed is 5.916 [Km/s]\n",
            " Angular momentum is [-84000    500  50500] [Km^2 / s]\n",
            " Mag of Angular momentum is 98012.754 [Km^2 / s]\n",
            " Mag of Angular momentum is -0.689 [Km/s]\n",
            " Inclination is 58.987 [degree]\n",
            " Node line is [  -500 -84000      0] [Km]\n",
            " Mag of Node line is 84001.488 [Km]\n",
            " RA of ascending node is 180.341 [degree]\n",
            " Eccentricity vector  is [-0.017  0.475 -0.033]\n",
            " Mag of Eccentricity vector is 0.476\n",
            " Argument of perigee is 184.613 [degree]\n",
            " True anomaly is 339.139 [degree]\n"
          ]
        }
      ],
      "source": [
        "import numpy as np\n",
        "# Mass of the earth\n",
        "M = 5.972 * 10**24 #[kg] \n",
        "# Gravitivational constant \n",
        "G = 6.6742 * 10**-20 #[Km * kg**-1 * s**-2]\n",
        "# Gravitivational parameter\n",
        "mu = G * M \n",
        "# position vector \n",
        "r = np.array([2500, 16000,4000])\n",
        "# Distance \n",
        "r_mag = np.linalg.norm(r)\n",
        "print(\" Distance is\",\"%.3f\" % r_mag,\"Km\")\n",
        "# Velocity vector\n",
        "v = np.array([-3, 1,-5])\n",
        "# Speed\n",
        "v_mag = np.linalg.norm(v)\n",
        "print(\" Speed is\",\"%.3f\" % v_mag,\"[Km/s]\")\n",
        "# Angular momentum\n",
        "h = np.cross(r,v)\n",
        "print(\" Angular momentum is\",np.around(h,3),\"[Km^2 / s]\")\n",
        "# Mag of Angular momentum\n",
        "h_mag = np.linalg.norm(h)\n",
        "print(\" Mag of Angular momentum is\",\"%.3f\" % h_mag,\"[Km^2 / s]\")\n",
        "# Radial speed\n",
        "v_r = np.dot(r,v)/np.linalg.norm(r)\n",
        "print(\" Mag of Angular momentum is\",\"%.3f\" % v_r,\"[Km/s]\")\n",
        "# Inclination\n",
        "i = np.arccos(h[2]/h_mag) * 180/np.pi\n",
        "print(\" Inclination is\",\"%.3f\" % i,\"[degree]\")\n",
        "# Node line\n",
        "N = np.cross([0,0,1],h)\n",
        "print(\" Node line is\",np.around(N,3),\"[Km]\")\n",
        "# Mag of Node line\n",
        "N_mag = np.linalg.norm(N)\n",
        "print(\" Mag of Node line is\",\"%.3f\" % N_mag,\"[Km]\")\n",
        "# RA of ascending node\n",
        "# Calculation of RA of ascending node\n",
        "if N[1]>=0:\n",
        "  omega =np.arccos(N[1]/N_mag) * 180/np.pi\n",
        "else:\n",
        "  omega = 360 - np.arccos(N[1]/N_mag) * 180/np.pi\n",
        "print(\" RA of ascending node is\",\"%.3f\" % omega,\"[degree]\")\n",
        "# Eccentricity vector \n",
        "e = 1/mu * ((v_mag**2 -mu/r_mag) * r - (r_mag * v_r * v) )\n",
        "print(\" Eccentricity vector  is\",np.around(e,3))\n",
        "# Mag of Eccentricity vector \n",
        "e_mag = np.linalg.norm(e)\n",
        "print(\" Mag of Eccentricity vector is\",\"%.3f\" % e_mag)\n",
        "# Argument of perigee\n",
        "# Calculation of Argument of perigee\n",
        "if e[2]>=0:\n",
        "  omg = np.arccos(np.dot(N,e)/(N_mag*e_mag)) * 180/np.pi\n",
        "else:\n",
        "  omg = 360 - np.arccos(np.dot(N,e)/(N_mag*e_mag)) * 180/np.pi\n",
        "print(\" Argument of perigee is\",\"%.3f\" % omg,\"[degree]\")\n",
        "# True anomaly\n",
        "# Calculation of True anomaly\n",
        "if np.dot(r,v)>=0:\n",
        "  theta = np.arccos(np.dot(r,e)/(r_mag*e_mag)) * 180/np.pi\n",
        "else:\n",
        "  theta = 360 - np.arccos(np.dot(r,e)/(r_mag*e_mag)) * 180/np.pi\n",
        "print(\" True anomaly is\",\"%.3f\" % theta,\"[degree]\")"
      ]
    }
  ]
}